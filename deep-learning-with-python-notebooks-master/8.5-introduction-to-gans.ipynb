{
 "cells": [
  {
   "cell_type": "code",
   "execution_count": 1,
   "metadata": {},
   "outputs": [
    {
     "name": "stderr",
     "output_type": "stream",
     "text": [
      "Using TensorFlow backend.\n"
     ]
    },
    {
     "data": {
      "text/plain": [
       "'2.2.4'"
      ]
     },
     "execution_count": 1,
     "metadata": {},
     "output_type": "execute_result"
    }
   ],
   "source": [
    "import keras\n",
    "keras.__version__"
   ]
  },
  {
   "cell_type": "markdown",
   "metadata": {},
   "source": [
    "# Introduction to generative adversarial networks\n",
    "\n",
    "This notebook contains the second code sample found in Chapter 8, Section 5 of [Deep Learning with Python](https://www.manning.com/books/deep-learning-with-python?a_aid=keras&a_bid=76564dff). Note that the original text features far more content, in particular further explanations and figures: in this notebook, you will only find source code and related comments.\n",
    "\n",
    "---\n",
    "[...]"
   ]
  },
  {
   "cell_type": "markdown",
   "metadata": {},
   "source": [
    "## A schematic GAN implementation\n",
    "\n",
    "\n",
    "In what follows, we explain how to implement a GAN in Keras, in its barest form -- since GANs are quite advanced, diving deeply into the \n",
    "technical details would be out of scope for us. Our specific implementation will be a deep convolutional GAN, or DCGAN: a GAN where the \n",
    "generator and discriminator are deep convnets. In particular, it leverages a `Conv2DTranspose` layer for image upsampling in the generator.\n",
    "\n",
    "We will train our GAN on images from CIFAR10, a dataset of 50,000 32x32 RGB images belong to 10 classes (5,000 images per class). To make \n",
    "things even easier, we will only use images belonging to the class \"frog\".\n",
    "\n",
    "Schematically, our GAN looks like this:\n",
    "\n",
    "* A `generator` network maps vectors of shape `(latent_dim,)` to images of shape `(32, 32, 3)`.\n",
    "* A `discriminator` network maps images of shape (32, 32, 3) to a binary score estimating the probability that the image is real.\n",
    "* A `gan` network chains the generator and the discriminator together: `gan(x) = discriminator(generator(x))`. Thus this `gan` network maps \n",
    "latent space vectors to the discriminator's assessment of the realism of these latent vectors as decoded by the generator.\n",
    "* We train the discriminator using examples of real and fake images along with \"real\"/\"fake\" labels, as we would train any regular image \n",
    "classification model.\n",
    "* To train the generator, we use the gradients of the generator's weights with regard to the loss of the `gan` model. This means that, at \n",
    "every step, we move the weights of the generator in a direction that will make the discriminator more likely to classify as \"real\" the \n",
    "images decoded by the generator. I.e. we train the generator to fool the discriminator."
   ]
  },
  {
   "cell_type": "markdown",
   "metadata": {},
   "source": [
    "## A bag of tricks\n",
    "\n",
    "\n",
    "Training GANs and tuning GAN implementations is notoriously difficult. There are a number of known \"tricks\" that one should keep in mind. \n",
    "Like most things in deep learning, it is more alchemy than science: these tricks are really just heuristics, not theory-backed guidelines. \n",
    "They are backed by some level of intuitive understanding of the phenomenon at hand, and they are known to work well empirically, albeit not \n",
    "necessarily in every context.\n",
    "\n",
    "Here are a few of the tricks that we leverage in our own implementation of a GAN generator and discriminator below. It is not an exhaustive \n",
    "list of GAN-related tricks; you will find many more across the GAN literature.\n",
    "\n",
    "* We use `tanh` as the last activation in the generator, instead of `sigmoid`, which would be more commonly found in other types of models.\n",
    "* We sample points from the latent space using a _normal distribution_ (Gaussian distribution), not a uniform distribution.\n",
    "* Stochasticity is good to induce robustness. Since GAN training results in a dynamic equilibrium, GANs are likely to get \"stuck\" in all sorts of ways. \n",
    "Introducing randomness during training helps prevent this. We introduce randomness in two ways: 1) we use dropout in the discriminator, 2) \n",
    "we add some random noise to the labels for the discriminator.\n",
    "* Sparse gradients can hinder GAN training. In deep learning, sparsity is often a desirable property, but not in GANs. There are two things \n",
    "that can induce gradient sparsity: 1) max pooling operations, 2) ReLU activations. Instead of max pooling, we recommend using strided \n",
    "convolutions for downsampling, and we recommend using a `LeakyReLU` layer instead of a ReLU activation. It is similar to ReLU but it \n",
    "relaxes sparsity constraints by allowing small negative activation values.\n",
    "* In generated images, it is common to see \"checkerboard artifacts\" caused by unequal coverage of the pixel space in the generator. To fix \n",
    "this, we use a kernel size that is divisible by the stride size, whenever we use a strided `Conv2DTranpose` or `Conv2D` in both the \n",
    "generator and discriminator."
   ]
  },
  {
   "cell_type": "markdown",
   "metadata": {},
   "source": [
    "## The generator\n",
    "\n",
    "\n",
    "First, we develop a `generator` model, which turns a vector (from the latent space -- during training it will sampled at random) into a \n",
    "candidate image. One of the many issues that commonly arise with GANs is that the generator gets stuck with generated images that look like \n",
    "noise. A possible solution is to use dropout on both the discriminator and generator."
   ]
  },
  {
   "cell_type": "code",
   "execution_count": 2,
   "metadata": {},
   "outputs": [
    {
     "name": "stderr",
     "output_type": "stream",
     "text": [
      "WARNING: Logging before flag parsing goes to stderr.\n",
      "W1010 15:39:04.346071 25608 deprecation_wrapper.py:119] From C:\\Users\\mikhail.galkin\\AppData\\Local\\Continuum\\anaconda3\\envs\\py_tensorflow\\lib\\site-packages\\keras\\backend\\tensorflow_backend.py:74: The name tf.get_default_graph is deprecated. Please use tf.compat.v1.get_default_graph instead.\n",
      "\n",
      "W1010 15:39:04.363738 25608 deprecation_wrapper.py:119] From C:\\Users\\mikhail.galkin\\AppData\\Local\\Continuum\\anaconda3\\envs\\py_tensorflow\\lib\\site-packages\\keras\\backend\\tensorflow_backend.py:517: The name tf.placeholder is deprecated. Please use tf.compat.v1.placeholder instead.\n",
      "\n",
      "W1010 15:39:04.366245 25608 deprecation_wrapper.py:119] From C:\\Users\\mikhail.galkin\\AppData\\Local\\Continuum\\anaconda3\\envs\\py_tensorflow\\lib\\site-packages\\keras\\backend\\tensorflow_backend.py:4138: The name tf.random_uniform is deprecated. Please use tf.random.uniform instead.\n",
      "\n"
     ]
    },
    {
     "name": "stdout",
     "output_type": "stream",
     "text": [
      "_________________________________________________________________\n",
      "Layer (type)                 Output Shape              Param #   \n",
      "=================================================================\n",
      "input_1 (InputLayer)         (None, 32)                0         \n",
      "_________________________________________________________________\n",
      "dense_1 (Dense)              (None, 32768)             1081344   \n",
      "_________________________________________________________________\n",
      "leaky_re_lu_1 (LeakyReLU)    (None, 32768)             0         \n",
      "_________________________________________________________________\n",
      "reshape_1 (Reshape)          (None, 16, 16, 128)       0         \n",
      "_________________________________________________________________\n",
      "conv2d_1 (Conv2D)            (None, 16, 16, 256)       819456    \n",
      "_________________________________________________________________\n",
      "leaky_re_lu_2 (LeakyReLU)    (None, 16, 16, 256)       0         \n",
      "_________________________________________________________________\n",
      "conv2d_transpose_1 (Conv2DTr (None, 32, 32, 256)       1048832   \n",
      "_________________________________________________________________\n",
      "leaky_re_lu_3 (LeakyReLU)    (None, 32, 32, 256)       0         \n",
      "_________________________________________________________________\n",
      "conv2d_2 (Conv2D)            (None, 32, 32, 256)       1638656   \n",
      "_________________________________________________________________\n",
      "leaky_re_lu_4 (LeakyReLU)    (None, 32, 32, 256)       0         \n",
      "_________________________________________________________________\n",
      "conv2d_3 (Conv2D)            (None, 32, 32, 256)       1638656   \n",
      "_________________________________________________________________\n",
      "leaky_re_lu_5 (LeakyReLU)    (None, 32, 32, 256)       0         \n",
      "_________________________________________________________________\n",
      "conv2d_4 (Conv2D)            (None, 32, 32, 3)         37635     \n",
      "=================================================================\n",
      "Total params: 6,264,579\n",
      "Trainable params: 6,264,579\n",
      "Non-trainable params: 0\n",
      "_________________________________________________________________\n"
     ]
    }
   ],
   "source": [
    "import keras\n",
    "from keras import layers\n",
    "import numpy as np\n",
    "\n",
    "latent_dim = 32\n",
    "height = 32\n",
    "width = 32\n",
    "channels = 3\n",
    "\n",
    "generator_input = keras.Input(shape=(latent_dim,))\n",
    "\n",
    "# First, transform the input into a 16x16 128-channels feature map\n",
    "x = layers.Dense(128 * 16 * 16)(generator_input)\n",
    "x = layers.LeakyReLU()(x)\n",
    "x = layers.Reshape((16, 16, 128))(x)\n",
    "\n",
    "# Then, add a convolution layer\n",
    "x = layers.Conv2D(256, 5, padding='same')(x)\n",
    "x = layers.LeakyReLU()(x)\n",
    "\n",
    "# Upsample to 32x32\n",
    "x = layers.Conv2DTranspose(256, 4, strides=2, padding='same')(x)\n",
    "x = layers.LeakyReLU()(x)\n",
    "\n",
    "# Few more conv layers\n",
    "x = layers.Conv2D(256, 5, padding='same')(x)\n",
    "x = layers.LeakyReLU()(x)\n",
    "x = layers.Conv2D(256, 5, padding='same')(x)\n",
    "x = layers.LeakyReLU()(x)\n",
    "\n",
    "# Produce a 32x32 1-channel feature map\n",
    "x = layers.Conv2D(channels, 7, activation='tanh', padding='same')(x)\n",
    "generator = keras.models.Model(generator_input, x)\n",
    "generator.summary()"
   ]
  },
  {
   "cell_type": "markdown",
   "metadata": {},
   "source": [
    "## The discriminator\n",
    "\n",
    "\n",
    "Then, we develop a `discriminator` model, that takes as input a candidate image (real or synthetic) and classifies it into one of two \n",
    "classes, either \"generated image\" or \"real image that comes from the training set\"."
   ]
  },
  {
   "cell_type": "code",
   "execution_count": 3,
   "metadata": {},
   "outputs": [
    {
     "name": "stderr",
     "output_type": "stream",
     "text": [
      "W1010 15:39:06.708103 25608 deprecation_wrapper.py:119] From C:\\Users\\mikhail.galkin\\AppData\\Local\\Continuum\\anaconda3\\envs\\py_tensorflow\\lib\\site-packages\\keras\\backend\\tensorflow_backend.py:133: The name tf.placeholder_with_default is deprecated. Please use tf.compat.v1.placeholder_with_default instead.\n",
      "\n",
      "W1010 15:39:06.723730 25608 deprecation.py:506] From C:\\Users\\mikhail.galkin\\AppData\\Local\\Continuum\\anaconda3\\envs\\py_tensorflow\\lib\\site-packages\\keras\\backend\\tensorflow_backend.py:3445: calling dropout (from tensorflow.python.ops.nn_ops) with keep_prob is deprecated and will be removed in a future version.\n",
      "Instructions for updating:\n",
      "Please use `rate` instead of `keep_prob`. Rate should be set to `rate = 1 - keep_prob`.\n",
      "W1010 15:39:06.764513 25608 deprecation_wrapper.py:119] From C:\\Users\\mikhail.galkin\\AppData\\Local\\Continuum\\anaconda3\\envs\\py_tensorflow\\lib\\site-packages\\keras\\optimizers.py:790: The name tf.train.Optimizer is deprecated. Please use tf.compat.v1.train.Optimizer instead.\n",
      "\n",
      "W1010 15:39:06.769527 25608 deprecation_wrapper.py:119] From C:\\Users\\mikhail.galkin\\AppData\\Local\\Continuum\\anaconda3\\envs\\py_tensorflow\\lib\\site-packages\\keras\\backend\\tensorflow_backend.py:3376: The name tf.log is deprecated. Please use tf.math.log instead.\n",
      "\n",
      "W1010 15:39:06.770028 25608 deprecation.py:323] From C:\\Users\\mikhail.galkin\\AppData\\Local\\Continuum\\anaconda3\\envs\\py_tensorflow\\lib\\site-packages\\tensorflow\\python\\ops\\nn_impl.py:180: add_dispatch_support.<locals>.wrapper (from tensorflow.python.ops.array_ops) is deprecated and will be removed in a future version.\n",
      "Instructions for updating:\n",
      "Use tf.where in 2.0, which has the same broadcast rule as np.where\n"
     ]
    },
    {
     "name": "stdout",
     "output_type": "stream",
     "text": [
      "_________________________________________________________________\n",
      "Layer (type)                 Output Shape              Param #   \n",
      "=================================================================\n",
      "input_2 (InputLayer)         (None, 32, 32, 3)         0         \n",
      "_________________________________________________________________\n",
      "conv2d_5 (Conv2D)            (None, 30, 30, 128)       3584      \n",
      "_________________________________________________________________\n",
      "leaky_re_lu_6 (LeakyReLU)    (None, 30, 30, 128)       0         \n",
      "_________________________________________________________________\n",
      "conv2d_6 (Conv2D)            (None, 14, 14, 128)       262272    \n",
      "_________________________________________________________________\n",
      "leaky_re_lu_7 (LeakyReLU)    (None, 14, 14, 128)       0         \n",
      "_________________________________________________________________\n",
      "conv2d_7 (Conv2D)            (None, 6, 6, 128)         262272    \n",
      "_________________________________________________________________\n",
      "leaky_re_lu_8 (LeakyReLU)    (None, 6, 6, 128)         0         \n",
      "_________________________________________________________________\n",
      "conv2d_8 (Conv2D)            (None, 2, 2, 128)         262272    \n",
      "_________________________________________________________________\n",
      "leaky_re_lu_9 (LeakyReLU)    (None, 2, 2, 128)         0         \n",
      "_________________________________________________________________\n",
      "flatten_1 (Flatten)          (None, 512)               0         \n",
      "_________________________________________________________________\n",
      "dropout_1 (Dropout)          (None, 512)               0         \n",
      "_________________________________________________________________\n",
      "dense_2 (Dense)              (None, 1)                 513       \n",
      "=================================================================\n",
      "Total params: 790,913\n",
      "Trainable params: 790,913\n",
      "Non-trainable params: 0\n",
      "_________________________________________________________________\n"
     ]
    }
   ],
   "source": [
    "discriminator_input = layers.Input(shape=(height, width, channels))\n",
    "x = layers.Conv2D(128, 3)(discriminator_input)\n",
    "x = layers.LeakyReLU()(x)\n",
    "x = layers.Conv2D(128, 4, strides=2)(x)\n",
    "x = layers.LeakyReLU()(x)\n",
    "x = layers.Conv2D(128, 4, strides=2)(x)\n",
    "x = layers.LeakyReLU()(x)\n",
    "x = layers.Conv2D(128, 4, strides=2)(x)\n",
    "x = layers.LeakyReLU()(x)\n",
    "x = layers.Flatten()(x)\n",
    "\n",
    "# One dropout layer - important trick!\n",
    "x = layers.Dropout(0.4)(x)\n",
    "\n",
    "# Classification layer\n",
    "x = layers.Dense(1, activation='sigmoid')(x)\n",
    "\n",
    "discriminator = keras.models.Model(discriminator_input, x)\n",
    "discriminator.summary()\n",
    "\n",
    "# To stabilize training, we use learning rate decay\n",
    "# and gradient clipping (by value) in the optimizer.\n",
    "discriminator_optimizer = keras.optimizers.RMSprop(lr=0.0008, clipvalue=1.0, decay=1e-8)\n",
    "discriminator.compile(optimizer=discriminator_optimizer, loss='binary_crossentropy')"
   ]
  },
  {
   "cell_type": "markdown",
   "metadata": {},
   "source": [
    "## The adversarial network\n",
    "\n",
    "Finally, we setup the GAN, which chains the generator and the discriminator. This is the model that, when trained, will move the generator \n",
    "in a direction that improves its ability to fool the discriminator. This model turns latent space points into a classification decision, \n",
    "\"fake\" or \"real\", and it is meant to be trained with labels that are always \"these are real images\". So training `gan` will updates the \n",
    "weights of `generator` in a way that makes `discriminator` more likely to predict \"real\" when looking at fake images. Very importantly, we \n",
    "set the discriminator to be frozen during training (non-trainable): its weights will not be updated when training `gan`. If the \n",
    "discriminator weights could be updated during this process, then we would be training the discriminator to always predict \"real\", which is \n",
    "not what we want!"
   ]
  },
  {
   "cell_type": "code",
   "execution_count": 4,
   "metadata": {},
   "outputs": [],
   "source": [
    "# Set discriminator weights to non-trainable\n",
    "# (will only apply to the `gan` model)\n",
    "discriminator.trainable = False\n",
    "\n",
    "gan_input = keras.Input(shape=(latent_dim,))\n",
    "gan_output = discriminator(generator(gan_input))\n",
    "gan = keras.models.Model(gan_input, gan_output)\n",
    "\n",
    "gan_optimizer = keras.optimizers.RMSprop(lr=0.0004, clipvalue=1.0, decay=1e-8)\n",
    "gan.compile(optimizer=gan_optimizer, loss='binary_crossentropy')"
   ]
  },
  {
   "cell_type": "markdown",
   "metadata": {},
   "source": [
    "## How to train your DCGAN\n",
    "\n",
    "Now we can start training. To recapitulate, this is schematically what the training loop looks like:\n",
    "\n",
    "```\n",
    "for each epoch:\n",
    "    * Draw random points in the latent space (random noise).\n",
    "    * Generate images with `generator` using this random noise.\n",
    "    * Mix the generated images with real ones.\n",
    "    * Train `discriminator` using these mixed images, with corresponding targets, either \"real\" (for the real images) or \"fake\" (for the generated images).\n",
    "    * Draw new random points in the latent space.\n",
    "    * Train `gan` using these random vectors, with targets that all say \"these are real images\". This will update the weights of the generator (only, since discriminator is frozen inside `gan`) to move them towards getting the discriminator to predict \"these are real images\" for generated images, i.e. this trains the generator to fool the discriminator.\n",
    "```\n",
    "\n",
    "Let's implement it:"
   ]
  },
  {
   "cell_type": "code",
   "execution_count": 5,
   "metadata": {
    "collapsed": true,
    "jupyter": {
     "outputs_hidden": true
    }
   },
   "outputs": [
    {
     "name": "stderr",
     "output_type": "stream",
     "text": [
      "C:\\Users\\mikhail.galkin\\AppData\\Local\\Continuum\\anaconda3\\envs\\py_tensorflow\\lib\\site-packages\\keras\\engine\\training.py:490: UserWarning: Discrepancy between trainable weights and collected trainable weights, did you set `model.trainable` without calling `model.compile` after ?\n",
      "  'Discrepancy between trainable weights and collected trainable'\n"
     ]
    },
    {
     "name": "stdout",
     "output_type": "stream",
     "text": [
      "discriminator loss at step 0: 0.68950444\n",
      "adversarial loss at step 0: 0.5831852\n"
     ]
    },
    {
     "name": "stderr",
     "output_type": "stream",
     "text": [
      "C:\\Users\\mikhail.galkin\\AppData\\Local\\Continuum\\anaconda3\\envs\\py_tensorflow\\lib\\site-packages\\keras\\engine\\training.py:490: UserWarning: Discrepancy between trainable weights and collected trainable weights, did you set `model.trainable` without calling `model.compile` after ?\n",
      "  'Discrepancy between trainable weights and collected trainable'\n"
     ]
    },
    {
     "name": "stdout",
     "output_type": "stream",
     "text": [
      "discriminator loss at step 100: 0.6117879\n",
      "adversarial loss at step 100: 0.7574172\n",
      "discriminator loss at step 200: 1.1968285\n",
      "adversarial loss at step 200: 1.6319304\n",
      "discriminator loss at step 300: 0.6908598\n",
      "adversarial loss at step 300: 0.76115304\n",
      "discriminator loss at step 400: 0.7068851\n",
      "adversarial loss at step 400: 0.75104845\n",
      "discriminator loss at step 500: 0.75884414\n",
      "adversarial loss at step 500: 0.7325659\n",
      "discriminator loss at step 600: 0.70484567\n",
      "adversarial loss at step 600: 0.749676\n",
      "discriminator loss at step 700: 0.7106142\n",
      "adversarial loss at step 700: 0.78920305\n",
      "discriminator loss at step 800: 0.66906995\n",
      "adversarial loss at step 800: 0.62488717\n",
      "discriminator loss at step 900: 0.7062708\n",
      "adversarial loss at step 900: 0.75372624\n",
      "discriminator loss at step 1000: 0.799754\n",
      "adversarial loss at step 1000: 0.78483856\n",
      "discriminator loss at step 1100: 0.69874746\n",
      "adversarial loss at step 1100: 1.006677\n",
      "discriminator loss at step 1200: 0.71008575\n",
      "adversarial loss at step 1200: 0.73458016\n",
      "discriminator loss at step 1300: 0.759305\n",
      "adversarial loss at step 1300: 0.7374137\n",
      "discriminator loss at step 1400: 0.7027626\n",
      "adversarial loss at step 1400: 0.7637725\n",
      "discriminator loss at step 1500: 0.7028867\n",
      "adversarial loss at step 1500: 0.71728987\n",
      "discriminator loss at step 1600: 0.6598281\n",
      "adversarial loss at step 1600: 0.76082134\n",
      "discriminator loss at step 1700: 0.7430957\n",
      "adversarial loss at step 1700: 0.8139304\n",
      "discriminator loss at step 1800: 0.70149225\n",
      "adversarial loss at step 1800: 0.68434983\n",
      "discriminator loss at step 1900: 0.6703904\n",
      "adversarial loss at step 1900: 0.7427201\n",
      "discriminator loss at step 2000: 0.7044672\n",
      "adversarial loss at step 2000: 0.70583045\n",
      "discriminator loss at step 2100: 0.7056824\n",
      "adversarial loss at step 2100: 0.8515485\n",
      "discriminator loss at step 2200: 0.6884819\n",
      "adversarial loss at step 2200: 0.83398163\n",
      "discriminator loss at step 2300: 0.7280056\n",
      "adversarial loss at step 2300: 0.7553996\n",
      "discriminator loss at step 2400: 0.70961744\n",
      "adversarial loss at step 2400: 0.73594177\n",
      "discriminator loss at step 2500: 0.68781054\n",
      "adversarial loss at step 2500: 0.4872601\n",
      "discriminator loss at step 2600: 0.71757925\n",
      "adversarial loss at step 2600: 0.69345814\n",
      "discriminator loss at step 2700: 0.6917709\n",
      "adversarial loss at step 2700: 0.7776665\n",
      "discriminator loss at step 2800: 0.7146393\n",
      "adversarial loss at step 2800: 0.8093494\n",
      "discriminator loss at step 2900: 0.705704\n",
      "adversarial loss at step 2900: 0.90292263\n",
      "discriminator loss at step 3000: 0.69729984\n",
      "adversarial loss at step 3000: 0.7544138\n",
      "discriminator loss at step 3100: 0.682312\n",
      "adversarial loss at step 3100: 0.78508556\n",
      "discriminator loss at step 3200: 0.68958485\n",
      "adversarial loss at step 3200: 0.78049827\n",
      "discriminator loss at step 3300: 0.7099289\n",
      "adversarial loss at step 3300: 0.7718462\n",
      "discriminator loss at step 3400: 0.7041297\n",
      "adversarial loss at step 3400: 0.7294153\n",
      "discriminator loss at step 3500: 0.6911982\n",
      "adversarial loss at step 3500: 0.76226187\n",
      "discriminator loss at step 3600: 0.6962969\n",
      "adversarial loss at step 3600: 0.7607177\n",
      "discriminator loss at step 3700: 0.6996351\n",
      "adversarial loss at step 3700: 0.7452828\n",
      "discriminator loss at step 3800: 0.692994\n",
      "adversarial loss at step 3800: 1.0304022\n",
      "discriminator loss at step 3900: 0.7427758\n",
      "adversarial loss at step 3900: 0.735428\n",
      "discriminator loss at step 4000: 0.68904895\n",
      "adversarial loss at step 4000: 0.8878301\n",
      "discriminator loss at step 4100: 0.7168475\n",
      "adversarial loss at step 4100: 0.84624577\n",
      "discriminator loss at step 4200: 0.69021994\n",
      "adversarial loss at step 4200: 0.78496015\n",
      "discriminator loss at step 4300: 0.6881254\n",
      "adversarial loss at step 4300: 0.7939556\n",
      "discriminator loss at step 4400: 0.7074041\n",
      "adversarial loss at step 4400: 0.7015819\n",
      "discriminator loss at step 4500: 0.7007484\n",
      "adversarial loss at step 4500: 0.7447382\n",
      "discriminator loss at step 4600: 0.6967944\n",
      "adversarial loss at step 4600: 0.7380196\n",
      "discriminator loss at step 4700: 0.6952894\n",
      "adversarial loss at step 4700: 0.7870842\n",
      "discriminator loss at step 4800: 0.72733784\n",
      "adversarial loss at step 4800: 0.99698985\n",
      "discriminator loss at step 4900: 0.6785462\n",
      "adversarial loss at step 4900: 0.8949007\n",
      "discriminator loss at step 5000: 0.70533925\n",
      "adversarial loss at step 5000: 0.7252432\n",
      "discriminator loss at step 5100: 0.6833682\n",
      "adversarial loss at step 5100: 0.75574553\n",
      "discriminator loss at step 5200: 0.68926096\n",
      "adversarial loss at step 5200: 0.7530912\n",
      "discriminator loss at step 5300: 0.6902886\n",
      "adversarial loss at step 5300: 1.2537712\n",
      "discriminator loss at step 5400: 0.73317564\n",
      "adversarial loss at step 5400: 0.7361313\n",
      "discriminator loss at step 5500: 0.6810333\n",
      "adversarial loss at step 5500: 0.7604363\n",
      "discriminator loss at step 5600: 0.69340587\n",
      "adversarial loss at step 5600: 0.75658166\n",
      "discriminator loss at step 5700: 0.6976575\n",
      "adversarial loss at step 5700: 0.88754654\n",
      "discriminator loss at step 5800: 0.7056319\n",
      "adversarial loss at step 5800: 0.7447004\n",
      "discriminator loss at step 5900: 0.6935683\n",
      "adversarial loss at step 5900: 0.7227479\n",
      "discriminator loss at step 6000: 0.7116078\n",
      "adversarial loss at step 6000: 0.7540155\n",
      "discriminator loss at step 6100: 0.71047\n",
      "adversarial loss at step 6100: 0.75938123\n",
      "discriminator loss at step 6200: 0.70659953\n",
      "adversarial loss at step 6200: 0.75536746\n",
      "discriminator loss at step 6300: 0.65531343\n",
      "adversarial loss at step 6300: 0.7092686\n",
      "discriminator loss at step 6400: 0.7211563\n",
      "adversarial loss at step 6400: 0.8964386\n",
      "discriminator loss at step 6500: 0.6619507\n",
      "adversarial loss at step 6500: 0.8720608\n",
      "discriminator loss at step 6600: 0.6007648\n",
      "adversarial loss at step 6600: 1.7529132\n",
      "discriminator loss at step 6700: 0.67814505\n",
      "adversarial loss at step 6700: 0.7476958\n",
      "discriminator loss at step 6800: 0.7134451\n",
      "adversarial loss at step 6800: 0.9648741\n",
      "discriminator loss at step 6900: 0.6930932\n",
      "adversarial loss at step 6900: 0.7830812\n",
      "discriminator loss at step 7000: 0.6870078\n",
      "adversarial loss at step 7000: 0.86514825\n",
      "discriminator loss at step 7100: 0.7287228\n",
      "adversarial loss at step 7100: 0.90347064\n",
      "discriminator loss at step 7200: 0.6287197\n",
      "adversarial loss at step 7200: 2.8368368\n",
      "discriminator loss at step 7300: 0.6790687\n",
      "adversarial loss at step 7300: 0.73650897\n",
      "discriminator loss at step 7400: 0.72364986\n",
      "adversarial loss at step 7400: 0.9806131\n",
      "discriminator loss at step 7500: 0.6715575\n",
      "adversarial loss at step 7500: 0.753272\n",
      "discriminator loss at step 7600: 0.70208484\n",
      "adversarial loss at step 7600: 0.84052104\n",
      "discriminator loss at step 7700: 0.6948694\n",
      "adversarial loss at step 7700: 0.8281784\n",
      "discriminator loss at step 7800: 0.66331375\n",
      "adversarial loss at step 7800: 0.76859045\n",
      "discriminator loss at step 7900: 0.7019957\n",
      "adversarial loss at step 7900: 1.0345788\n",
      "discriminator loss at step 8000: 0.6603878\n",
      "adversarial loss at step 8000: 0.80736876\n",
      "discriminator loss at step 8100: 0.70128477\n",
      "adversarial loss at step 8100: 0.796779\n",
      "discriminator loss at step 8200: 0.67759526\n",
      "adversarial loss at step 8200: 1.2262064\n",
      "discriminator loss at step 8300: 0.66292346\n",
      "adversarial loss at step 8300: 0.84182566\n",
      "discriminator loss at step 8400: 0.71734184\n",
      "adversarial loss at step 8400: 0.7933034\n",
      "discriminator loss at step 8500: 0.6979578\n",
      "adversarial loss at step 8500: 0.7142352\n",
      "discriminator loss at step 8600: 0.662607\n",
      "adversarial loss at step 8600: 0.91727704\n",
      "discriminator loss at step 8700: 1.8945185\n",
      "adversarial loss at step 8700: 5.590522\n",
      "discriminator loss at step 8800: 0.6956109\n",
      "adversarial loss at step 8800: 0.81415397\n",
      "discriminator loss at step 8900: 0.6994334\n",
      "adversarial loss at step 8900: 0.7550198\n",
      "discriminator loss at step 9000: 0.65965164\n",
      "adversarial loss at step 9000: 0.872032\n",
      "discriminator loss at step 9100: 0.6792543\n",
      "adversarial loss at step 9100: 0.6890935\n",
      "discriminator loss at step 9200: 0.6837559\n",
      "adversarial loss at step 9200: 0.7710021\n",
      "discriminator loss at step 9300: 0.7003013\n",
      "adversarial loss at step 9300: 0.75245637\n",
      "discriminator loss at step 9400: 0.6985358\n",
      "adversarial loss at step 9400: 0.63080376\n",
      "discriminator loss at step 9500: 0.6930944\n",
      "adversarial loss at step 9500: 0.888585\n",
      "discriminator loss at step 9600: 0.6762122\n",
      "adversarial loss at step 9600: 0.91503155\n",
      "discriminator loss at step 9700: 0.68774486\n",
      "adversarial loss at step 9700: 0.84580404\n",
      "discriminator loss at step 9800: 0.665113\n",
      "adversarial loss at step 9800: 0.7360396\n",
      "discriminator loss at step 9900: 0.6845606\n",
      "adversarial loss at step 9900: 0.69845647\n",
      "------ ALL DONE !!! ---------\n"
     ]
    }
   ],
   "source": [
    "import os\n",
    "from keras.preprocessing import image\n",
    "\n",
    "# Load CIFAR10 data\n",
    "(x_train, y_train), (_, _) = keras.datasets.cifar10.load_data()\n",
    "\n",
    "# Select frog images (class 6)\n",
    "x_train = x_train[y_train.flatten() == 6]\n",
    "\n",
    "# Normalize data\n",
    "x_train = x_train.reshape(\n",
    "    (x_train.shape[0],) + (height, width, channels)).astype('float32') / 255.\n",
    "\n",
    "iterations = 10000\n",
    "batch_size = 20\n",
    "save_dir = 'C:/Users/mikhail.galkin/Documents/DataProjects/tutorial_keras/py_keras_by_fchollet/img_gan'\n",
    "\n",
    "# Start training loop\n",
    "start = 0\n",
    "for step in range(iterations):\n",
    "    # Sample random points in the latent space\n",
    "    random_latent_vectors = np.random.normal(size=(batch_size, latent_dim))\n",
    "\n",
    "    # Decode them to fake images\n",
    "    generated_images = generator.predict(random_latent_vectors)\n",
    "\n",
    "    # Combine them with real images\n",
    "    stop = start + batch_size\n",
    "    real_images = x_train[start: stop]\n",
    "    combined_images = np.concatenate([generated_images, real_images])\n",
    "\n",
    "    # Assemble labels discriminating real from fake images\n",
    "    labels = np.concatenate([np.ones((batch_size, 1)),\n",
    "                             np.zeros((batch_size, 1))])\n",
    "    # Add random noise to the labels - important trick!\n",
    "    labels += 0.05 * np.random.random(labels.shape)\n",
    "\n",
    "    # Train the discriminator\n",
    "    d_loss = discriminator.train_on_batch(combined_images, labels)\n",
    "\n",
    "    # sample random points in the latent space\n",
    "    random_latent_vectors = np.random.normal(size=(batch_size, latent_dim))\n",
    "\n",
    "    # Assemble labels that say \"all real images\"\n",
    "    misleading_targets = np.zeros((batch_size, 1))\n",
    "\n",
    "    # Train the generator (via the gan model,\n",
    "    # where the discriminator weights are frozen)\n",
    "    a_loss = gan.train_on_batch(random_latent_vectors, misleading_targets)\n",
    "    \n",
    "    start += batch_size\n",
    "    if start > len(x_train) - batch_size:\n",
    "      start = 0\n",
    "\n",
    "    # Occasionally save / plot\n",
    "    if step % 100 == 0:\n",
    "        # Save model weights\n",
    "        gan.save_weights('C:/Users/mikhail.galkin/Documents/DataProjects/tutorial_keras/py_keras_by_fchollet/models/gan.h5')\n",
    "\n",
    "        # Print metrics\n",
    "        print('discriminator loss at step %s: %s' % (step, d_loss))\n",
    "        print('adversarial loss at step %s: %s' % (step, a_loss))\n",
    "\n",
    "        # Save one generated image\n",
    "        img = image.array_to_img(generated_images[0] * 255., scale=False)\n",
    "        img.save(os.path.join(save_dir, 'generated_frog' + str(step) + '.png'))\n",
    "\n",
    "        # Save one real image, for comparison\n",
    "        img = image.array_to_img(real_images[0] * 255., scale=False)\n",
    "        img.save(os.path.join(save_dir, 'real_frog' + str(step) + '.png'))\n",
    "        \n",
    "print('------ ALL DONE !!! ---------')"
   ]
  },
  {
   "cell_type": "markdown",
   "metadata": {},
   "source": [
    "Let's display a few of our fake images:"
   ]
  },
  {
   "cell_type": "code",
   "execution_count": 7,
   "metadata": {},
   "outputs": [
    {
     "data": {
      "image/png": "[encoded data removed]",
      "text/plain": [
       "<Figure size 432x288 with 1 Axes>"
      ]
     },
     "metadata": {
      "needs_background": "light"
     },
     "output_type": "display_data"
    },
    {
     "data": {
      "image/png": "[encoded data removed]",
      "text/plain": [
       "<Figure size 432x288 with 1 Axes>"
      ]
     },
     "metadata": {
      "needs_background": "light"
     },
     "output_type": "display_data"
    },
    {
     "data": {
      "image/png": "[encoded data removed]",
      "text/plain": [
       "<Figure size 432x288 with 1 Axes>"
      ]
     },
     "metadata": {
      "needs_background": "light"
     },
     "output_type": "display_data"
    },
    {
     "data": {
      "image/png": "[encoded data removed]",
      "text/plain": [
       "<Figure size 432x288 with 1 Axes>"
      ]
     },
     "metadata": {
      "needs_background": "light"
     },
     "output_type": "display_data"
    },
    {
     "data": {
      "image/png": "[encoded data removed]",
      "text/plain": [
       "<Figure size 432x288 with 1 Axes>"
      ]
     },
     "metadata": {
      "needs_background": "light"
     },
     "output_type": "display_data"
    },
    {
     "data": {
      "image/png": "[encoded data removed]",
      "text/plain": [
       "<Figure size 432x288 with 1 Axes>"
      ]
     },
     "metadata": {
      "needs_background": "light"
     },
     "output_type": "display_data"
    },
    {
     "data": {
      "image/png": "[encoded data removed]",
      "text/plain": [
       "<Figure size 432x288 with 1 Axes>"
      ]
     },
     "metadata": {
      "needs_background": "light"
     },
     "output_type": "display_data"
    },
    {
     "data": {
      "image/png": "[encoded data removed]",
      "text/plain": [
       "<Figure size 432x288 with 1 Axes>"
      ]
     },
     "metadata": {
      "needs_background": "light"
     },
     "output_type": "display_data"
    },
    {
     "data": {
      "image/png": "[encoded data removed]",
      "text/plain": [
       "<Figure size 432x288 with 1 Axes>"
      ]
     },
     "metadata": {
      "needs_background": "light"
     },
     "output_type": "display_data"
    },
    {
     "data": {
      "image/png": "[encoded data removed]",
      "text/plain": [
       "<Figure size 432x288 with 1 Axes>"
      ]
     },
     "metadata": {
      "needs_background": "light"
     },
     "output_type": "display_data"
    }
   ],
   "source": [
    "import matplotlib.pyplot as plt\n",
    "\n",
    "# Sample random points in the latent space\n",
    "random_latent_vectors = np.random.normal(size=(10, latent_dim))\n",
    "\n",
    "# Decode them to fake images\n",
    "generated_images = generator.predict(random_latent_vectors)\n",
    "\n",
    "for i in range(generated_images.shape[0]):\n",
    "    img = image.array_to_img(generated_images[i] * 255., scale=False)\n",
    "    plt.figure()\n",
    "    plt.imshow(img)\n",
    "    \n",
    "plt.show()"
   ]
  },
  {
   "cell_type": "markdown",
   "metadata": {},
   "source": [
    "Froggy with some pixellated artifacts."
   ]
  }
 ],
 "metadata": {
  "kernelspec": {
   "display_name": "Python 3",
   "language": "python",
   "name": "python3"
  },
  "language_info": {
   "codemirror_mode": {
    "name": "ipython",
    "version": 3
   },
   "file_extension": ".py",
   "mimetype": "text/x-python",
   "name": "python",
   "nbconvert_exporter": "python",
   "pygments_lexer": "ipython3",
   "version": "3.7.3"
  }
 },
 "nbformat": 4,
 "nbformat_minor": 4
}
